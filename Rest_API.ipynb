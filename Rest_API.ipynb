{
 "cells": [
  {
   "cell_type": "markdown",
   "metadata": {},
   "source": [
    "# Data Interfaces using SQlite 3"
   ]
  },
  {
   "cell_type": "markdown",
   "metadata": {},
   "source": [
    "#### In extension to my Data Engineering Certification course in July 2021, this notebook is an attempt to develop Data Interface application."
   ]
  },
  {
   "cell_type": "markdown",
   "metadata": {},
   "source": [
    "To define Data Interface in short:\n",
    "\n",
    "Web applications use API to allow the user-facing front end to communicate with the back-end functionality and data. When a request is made on a website, an API allows the application to read the database, retrieve information from the relevant tables in the database, process the request and return an HTTP-based response to the web template, which is then displayed in the web browser. Data engineers build APIs in databases to enable data scientists and business intelligence analysts to query the data."
   ]
  },
  {
   "cell_type": "markdown",
   "metadata": {},
   "source": [
    "More References on this topic:\n",
    "\n",
    "https://en.wikipedia.org/wiki/Interface_(computing)\n",
    "\n",
    "https://www.analyticsvidhya.com/blog/2016/11/an-introduction-to-apis-application-programming-interfaces-5-apis-a-data-scientist-must-know/"
   ]
  },
  {
   "cell_type": "markdown",
   "metadata": {},
   "source": [
    "In this notebook, the coding makes use of a basic SQLite3 commands. \n",
    "\n",
    "We are referring to a worldwide Sales database to understand the Customer Segment and the Product popularity. \n",
    "\n",
    "The database was referred from https://www.sqlitetutorial.net/sqlite-sample-database/."
   ]
  },
  {
   "cell_type": "markdown",
   "metadata": {},
   "source": [
    "### Databaseschema:"
   ]
  },
  {
   "cell_type": "markdown",
   "metadata": {},
   "source": [
    "![image info](https://www.sqlitetutorial.net/wp-content/uploads/2015/11/sqlite-sample-database-color.jpg)"
   ]
  },
  {
   "cell_type": "markdown",
   "metadata": {},
   "source": [
    "### The code in this notebook focuses on answering below essential user-oriented approaches and solutions"
   ]
  },
  {
   "cell_type": "raw",
   "metadata": {},
   "source": [
    "# install packages\n",
    "\n",
    "! pip install flask flask-jsonpify flask-sqlalchemy flask-restful\n",
    "! pip freeze"
   ]
  },
  {
   "cell_type": "code",
   "execution_count": 183,
   "metadata": {},
   "outputs": [],
   "source": [
    "# importing libraries\n",
    "\n",
    "import sqlite3 as sql\n",
    "import pandas as pd\n",
    "\n",
    "import matplotlib.pyplot as plt\n",
    "import seaborn as sns\n",
    "%matplotlib inline"
   ]
  },
  {
   "cell_type": "code",
   "execution_count": 48,
   "metadata": {},
   "outputs": [],
   "source": [
    "# Let's create a connection to our SQLite database\n",
    "conn = sql.connect(\"C:/Users/alfa/Desktop/Python_Rest_API/learnAPI.db\")"
   ]
  },
  {
   "cell_type": "code",
   "execution_count": 49,
   "metadata": {},
   "outputs": [],
   "source": [
    "# Create a cursor object\n",
    "cur = conn.cursor()"
   ]
  },
  {
   "cell_type": "code",
   "execution_count": 50,
   "metadata": {},
   "outputs": [
    {
     "name": "stdout",
     "output_type": "stream",
     "text": [
      "('albums',)\n",
      "('sqlite_sequence',)\n",
      "('artists',)\n",
      "('customers',)\n",
      "('employees',)\n",
      "('genres',)\n",
      "('invoices',)\n",
      "('invoice_items',)\n",
      "('media_types',)\n",
      "('playlists',)\n",
      "('playlist_track',)\n",
      "('tracks',)\n",
      "('sqlite_stat1',)\n"
     ]
    }
   ],
   "source": [
    "# Execute a SQL query to fetch all the table names in the database\n",
    "for row in cur.execute(\"SELECT name FROM sqlite_master WHERE type = 'table'\"):\n",
    "    print(row)"
   ]
  },
  {
   "cell_type": "markdown",
   "metadata": {},
   "source": [
    "### Creating a Pandas dataframe from the database to get introduced to our Tables/ Data and detailed view of the column names to perform queries"
   ]
  },
  {
   "cell_type": "code",
   "execution_count": 52,
   "metadata": {},
   "outputs": [
    {
     "name": "stdout",
     "output_type": "stream",
     "text": [
      "   InvoiceId  CustomerId          InvoiceDate           BillingAddress  \\\n",
      "0          1           2  2009-01-01 00:00:00  Theodor-Heuss-Straße 34   \n",
      "1          2           4  2009-01-02 00:00:00         Ullevålsveien 14   \n",
      "2          3           8  2009-01-03 00:00:00          Grétrystraat 63   \n",
      "3          4          14  2009-01-06 00:00:00           8210 111 ST NW   \n",
      "4          5          23  2009-01-11 00:00:00          69 Salem Street   \n",
      "\n",
      "  BillingCity BillingState BillingCountry BillingPostalCode  Total  \n",
      "0   Stuttgart         None        Germany             70174   1.98  \n",
      "1        Oslo         None         Norway              0171   3.96  \n",
      "2    Brussels         None        Belgium              1000   5.94  \n",
      "3    Edmonton           AB         Canada           T6G 2C7   8.91  \n",
      "4      Boston           MA            USA              2113  13.86  \n"
     ]
    }
   ],
   "source": [
    "invoices_df = pd.read_sql_query(\"SELECT * from invoices\", conn)\n",
    "\n",
    "# Verify that result of SQL query is stored in the dataframe\n",
    "print(invoices_df.head())"
   ]
  },
  {
   "cell_type": "code",
   "execution_count": 54,
   "metadata": {},
   "outputs": [
    {
     "name": "stdout",
     "output_type": "stream",
     "text": [
      "   CustomerId  FirstName     LastName  \\\n",
      "0           1       Luís    Gonçalves   \n",
      "1           2     Leonie       Köhler   \n",
      "2           3   François     Tremblay   \n",
      "3           4      Bjørn       Hansen   \n",
      "4           5  František  Wichterlová   \n",
      "\n",
      "                                            Company  \\\n",
      "0  Embraer - Empresa Brasileira de Aeronáutica S.A.   \n",
      "1                                              None   \n",
      "2                                              None   \n",
      "3                                              None   \n",
      "4                                  JetBrains s.r.o.   \n",
      "\n",
      "                           Address                 City State         Country  \\\n",
      "0  Av. Brigadeiro Faria Lima, 2170  São José dos Campos    SP          Brazil   \n",
      "1          Theodor-Heuss-Straße 34            Stuttgart  None         Germany   \n",
      "2                1498 rue Bélanger             Montréal    QC          Canada   \n",
      "3                 Ullevålsveien 14                 Oslo  None          Norway   \n",
      "4                    Klanova 9/506               Prague  None  Czech Republic   \n",
      "\n",
      "  PostalCode               Phone                 Fax  \\\n",
      "0  12227-000  +55 (12) 3923-5555  +55 (12) 3923-5566   \n",
      "1      70174    +49 0711 2842222                None   \n",
      "2    H2G 1A7   +1 (514) 721-4711                None   \n",
      "3       0171     +47 22 44 22 22                None   \n",
      "4      14700    +420 2 4172 5555    +420 2 4172 5555   \n",
      "\n",
      "                      Email  SupportRepId  \n",
      "0      luisg@embraer.com.br             3  \n",
      "1     leonekohler@surfeu.de             5  \n",
      "2       ftremblay@gmail.com             3  \n",
      "3     bjorn.hansen@yahoo.no             4  \n",
      "4  frantisekw@jetbrains.com             4  \n"
     ]
    }
   ],
   "source": [
    "customers_df = pd.read_sql_query(\"SELECT * from customers\", conn)\n",
    "# Verify that result of SQL query is stored in the dataframe\n",
    "print(customers_df.head())"
   ]
  },
  {
   "cell_type": "code",
   "execution_count": 60,
   "metadata": {},
   "outputs": [
    {
     "name": "stdout",
     "output_type": "stream",
     "text": [
      "   InvoiceLineId  InvoiceId  TrackId  UnitPrice  Quantity\n",
      "0              1          1        2       0.99         1\n",
      "1              2          1        4       0.99         1\n",
      "2              3          2        6       0.99         1\n",
      "3              4          2        8       0.99         1\n",
      "4              5          2       10       0.99         1\n"
     ]
    }
   ],
   "source": [
    "invoice_items_df = pd.read_sql_query(\"SELECT * from invoice_items\", conn)\n",
    "# Verify that result of SQL query is stored in the dataframe\n",
    "print(invoice_items_df.head())"
   ]
  },
  {
   "cell_type": "code",
   "execution_count": 61,
   "metadata": {},
   "outputs": [
    {
     "name": "stdout",
     "output_type": "stream",
     "text": [
      "   TrackId                                     Name  AlbumId  MediaTypeId  \\\n",
      "0        1  For Those About To Rock (We Salute You)        1            1   \n",
      "1        2                        Balls to the Wall        2            2   \n",
      "2        3                          Fast As a Shark        3            2   \n",
      "3        4                        Restless and Wild        3            2   \n",
      "4        5                     Princess of the Dawn        3            2   \n",
      "\n",
      "   GenreId                                           Composer  Milliseconds  \\\n",
      "0        1          Angus Young, Malcolm Young, Brian Johnson        343719   \n",
      "1        1                                               None        342562   \n",
      "2        1  F. Baltes, S. Kaufman, U. Dirkscneider & W. Ho...        230619   \n",
      "3        1  F. Baltes, R.A. Smith-Diesel, S. Kaufman, U. D...        252051   \n",
      "4        1                         Deaffy & R.A. Smith-Diesel        375418   \n",
      "\n",
      "      Bytes  UnitPrice  \n",
      "0  11170334       0.99  \n",
      "1   5510424       0.99  \n",
      "2   3990994       0.99  \n",
      "3   4331779       0.99  \n",
      "4   6290521       0.99  \n"
     ]
    }
   ],
   "source": [
    "tracks_df = pd.read_sql_query(\"SELECT * from tracks\", conn)\n",
    "# Verify that result of SQL query is stored in the dataframe\n",
    "print(tracks_df.head())"
   ]
  },
  {
   "cell_type": "code",
   "execution_count": 62,
   "metadata": {},
   "outputs": [
    {
     "name": "stdout",
     "output_type": "stream",
     "text": [
      "   GenreId                Name\n",
      "0        1                Rock\n",
      "1        2                Jazz\n",
      "2        3               Metal\n",
      "3        4  Alternative & Punk\n",
      "4        5       Rock And Roll\n"
     ]
    }
   ],
   "source": [
    "genres_df = pd.read_sql_query(\"SELECT * from genres\", conn)\n",
    "# Verify that result of SQL query is stored in the dataframe\n",
    "print(genres_df.head())"
   ]
  },
  {
   "cell_type": "code",
   "execution_count": 107,
   "metadata": {},
   "outputs": [
    {
     "name": "stdout",
     "output_type": "stream",
     "text": [
      "   PlaylistId        Name\n",
      "0           1       Music\n",
      "1           2      Movies\n",
      "2           3    TV Shows\n",
      "3           4  Audiobooks\n",
      "4           5  90’s Music\n"
     ]
    }
   ],
   "source": [
    "playlists_df = pd.read_sql_query(\"SELECT * from playlists\", conn)\n",
    "# Verify that result of SQL query is stored in the dataframe\n",
    "print(playlists_df.head())"
   ]
  },
  {
   "cell_type": "code",
   "execution_count": 108,
   "metadata": {},
   "outputs": [
    {
     "name": "stdout",
     "output_type": "stream",
     "text": [
      "   PlaylistId  TrackId\n",
      "0           1     3402\n",
      "1           1     3389\n",
      "2           1     3390\n",
      "3           1     3391\n",
      "4           1     3392\n"
     ]
    }
   ],
   "source": [
    "playlist_track_df = pd.read_sql_query(\"SELECT * from playlist_track\", conn)\n",
    "# Verify that result of SQL query is stored in the dataframe\n",
    "print(playlist_track_df.head())"
   ]
  },
  {
   "cell_type": "code",
   "execution_count": 94,
   "metadata": {},
   "outputs": [
    {
     "name": "stdout",
     "output_type": "stream",
     "text": [
      "   EmployeeId LastName FirstName                Title  ReportsTo  \\\n",
      "0           1    Adams    Andrew      General Manager        NaN   \n",
      "1           2  Edwards     Nancy        Sales Manager        1.0   \n",
      "2           3  Peacock      Jane  Sales Support Agent        2.0   \n",
      "3           4     Park  Margaret  Sales Support Agent        2.0   \n",
      "4           5  Johnson     Steve  Sales Support Agent        2.0   \n",
      "\n",
      "             BirthDate             HireDate              Address      City  \\\n",
      "0  1962-02-18 00:00:00  2002-08-14 00:00:00  11120 Jasper Ave NW  Edmonton   \n",
      "1  1958-12-08 00:00:00  2002-05-01 00:00:00         825 8 Ave SW   Calgary   \n",
      "2  1973-08-29 00:00:00  2002-04-01 00:00:00        1111 6 Ave SW   Calgary   \n",
      "3  1947-09-19 00:00:00  2003-05-03 00:00:00     683 10 Street SW   Calgary   \n",
      "4  1965-03-03 00:00:00  2003-10-17 00:00:00         7727B 41 Ave   Calgary   \n",
      "\n",
      "  State Country PostalCode              Phone                Fax  \\\n",
      "0    AB  Canada    T5K 2N1  +1 (780) 428-9482  +1 (780) 428-3457   \n",
      "1    AB  Canada    T2P 2T3  +1 (403) 262-3443  +1 (403) 262-3322   \n",
      "2    AB  Canada    T2P 5M5  +1 (403) 262-3443  +1 (403) 262-6712   \n",
      "3    AB  Canada    T2P 5G3  +1 (403) 263-4423  +1 (403) 263-4289   \n",
      "4    AB  Canada    T3B 1Y7   1 (780) 836-9987   1 (780) 836-9543   \n",
      "\n",
      "                      Email  \n",
      "0    andrew@chinookcorp.com  \n",
      "1     nancy@chinookcorp.com  \n",
      "2      jane@chinookcorp.com  \n",
      "3  margaret@chinookcorp.com  \n",
      "4     steve@chinookcorp.com  \n"
     ]
    }
   ],
   "source": [
    "employees_df = pd.read_sql_query(\"SELECT * from employees\", conn)\n",
    "# Verify that result of SQL query is stored in the dataframe\n",
    "print(employees_df.head())"
   ]
  },
  {
   "cell_type": "code",
   "execution_count": 102,
   "metadata": {
    "scrolled": true
   },
   "outputs": [
    {
     "name": "stdout",
     "output_type": "stream",
     "text": [
      "   AlbumId                                  Title  ArtistId\n",
      "0        1  For Those About To Rock We Salute You         1\n",
      "1        2                      Balls to the Wall         2\n",
      "2        3                      Restless and Wild         2\n",
      "3        4                      Let There Be Rock         1\n",
      "4        5                               Big Ones         3\n"
     ]
    }
   ],
   "source": [
    "albums_df = pd.read_sql_query(\"SELECT * from albums\", conn)\n",
    "# Verify that result of SQL query is stored in the dataframe\n",
    "print(albums_df.head())"
   ]
  },
  {
   "cell_type": "code",
   "execution_count": 158,
   "metadata": {},
   "outputs": [
    {
     "name": "stdout",
     "output_type": "stream",
     "text": [
      "   ArtistId               Name\n",
      "0         1              AC/DC\n",
      "1         2             Accept\n",
      "2         3          Aerosmith\n",
      "3         4  Alanis Morissette\n",
      "4         5    Alice In Chains\n"
     ]
    }
   ],
   "source": [
    "artists_df = pd.read_sql_query(\"SELECT * from artists\", conn)\n",
    "# Verify that result of SQL query is stored in the dataframe\n",
    "print(artists_df.head())"
   ]
  },
  {
   "cell_type": "markdown",
   "metadata": {},
   "source": [
    "# Let the Code begin and deliver Data related solutions to the business 😃"
   ]
  },
  {
   "cell_type": "markdown",
   "metadata": {},
   "source": [
    "### Use Case 1 : \n",
    "\n",
    "Lets find the customer that has spent the most on music for each country.\n",
    "\n",
    "1. Think of a temporary table, named as t1 that lists the total amount spent by each person, along with their country (this one is kind of easy)\n",
    "2. To select only the top spenders for each country we could simply select MAX(TotalSpent) from t1 and GROUP BY Country.\n",
    "3. The problem is that there are countries with 2 people that spent the same top-amount and we want them both in the final result. MAX would only return one of them.\n",
    "4. Create a table t2 that contains only the max-spender by country\n",
    "5. Join t1 and t2 and use the clause WHERE t1.TotalSpent = t2.MaxTotalSpent to select only top spenders at the same time you keep more than one in case they exist"
   ]
  },
  {
   "cell_type": "code",
   "execution_count": 55,
   "metadata": {},
   "outputs": [],
   "source": [
    "q1 = '''\n",
    "WITH t1 AS \n",
    "(\n",
    "    SELECT c.Country, SUM(i.Total) TotalSpent, c.FirstName, c.LastName, c.CustomerId\n",
    "    FROM \n",
    "        customers c\n",
    "        JOIN invoices i ON c.CustomerId = i.CustomerId\n",
    "    GROUP BY c.CustomerId\n",
    ")\n",
    "\n",
    "SELECT t1.*\n",
    "FROM t1\n",
    "JOIN(\n",
    "    SELECT Country, MAX(TotalSpent) AS MaxTotalSpent, FirstName, LastName, CustomerId\n",
    "    FROM t1\n",
    "    GROUP BY Country\n",
    ")t2\n",
    "ON t1.Country = t2.Country\n",
    "WHERE t1.TotalSpent = t2.MaxTotalSpent\n",
    "ORDER BY TotalSpent DESC, Country\n",
    "LIMIT 7;\n",
    "'''"
   ]
  },
  {
   "cell_type": "code",
   "execution_count": 56,
   "metadata": {},
   "outputs": [
    {
     "data": {
      "text/html": [
       "<div>\n",
       "<style scoped>\n",
       "    .dataframe tbody tr th:only-of-type {\n",
       "        vertical-align: middle;\n",
       "    }\n",
       "\n",
       "    .dataframe tbody tr th {\n",
       "        vertical-align: top;\n",
       "    }\n",
       "\n",
       "    .dataframe thead th {\n",
       "        text-align: right;\n",
       "    }\n",
       "</style>\n",
       "<table border=\"1\" class=\"dataframe\">\n",
       "  <thead>\n",
       "    <tr style=\"text-align: right;\">\n",
       "      <th></th>\n",
       "      <th>Country</th>\n",
       "      <th>TotalSpent</th>\n",
       "      <th>FirstName</th>\n",
       "      <th>LastName</th>\n",
       "      <th>CustomerId</th>\n",
       "    </tr>\n",
       "  </thead>\n",
       "  <tbody>\n",
       "    <tr>\n",
       "      <th>0</th>\n",
       "      <td>Czech Republic</td>\n",
       "      <td>49.62</td>\n",
       "      <td>Helena</td>\n",
       "      <td>Holý</td>\n",
       "      <td>6</td>\n",
       "    </tr>\n",
       "    <tr>\n",
       "      <th>1</th>\n",
       "      <td>USA</td>\n",
       "      <td>47.62</td>\n",
       "      <td>Richard</td>\n",
       "      <td>Cunningham</td>\n",
       "      <td>26</td>\n",
       "    </tr>\n",
       "    <tr>\n",
       "      <th>2</th>\n",
       "      <td>Chile</td>\n",
       "      <td>46.62</td>\n",
       "      <td>Luis</td>\n",
       "      <td>Rojas</td>\n",
       "      <td>57</td>\n",
       "    </tr>\n",
       "    <tr>\n",
       "      <th>3</th>\n",
       "      <td>Hungary</td>\n",
       "      <td>45.62</td>\n",
       "      <td>Ladislav</td>\n",
       "      <td>Kovács</td>\n",
       "      <td>45</td>\n",
       "    </tr>\n",
       "    <tr>\n",
       "      <th>4</th>\n",
       "      <td>Ireland</td>\n",
       "      <td>45.62</td>\n",
       "      <td>Hugh</td>\n",
       "      <td>O'Reilly</td>\n",
       "      <td>46</td>\n",
       "    </tr>\n",
       "    <tr>\n",
       "      <th>5</th>\n",
       "      <td>Germany</td>\n",
       "      <td>43.62</td>\n",
       "      <td>Fynn</td>\n",
       "      <td>Zimmermann</td>\n",
       "      <td>37</td>\n",
       "    </tr>\n",
       "    <tr>\n",
       "      <th>6</th>\n",
       "      <td>Austria</td>\n",
       "      <td>42.62</td>\n",
       "      <td>Astrid</td>\n",
       "      <td>Gruber</td>\n",
       "      <td>7</td>\n",
       "    </tr>\n",
       "  </tbody>\n",
       "</table>\n",
       "</div>"
      ],
      "text/plain": [
       "          Country  TotalSpent FirstName    LastName  CustomerId\n",
       "0  Czech Republic       49.62    Helena        Holý           6\n",
       "1             USA       47.62   Richard  Cunningham          26\n",
       "2           Chile       46.62      Luis       Rojas          57\n",
       "3         Hungary       45.62  Ladislav      Kovács          45\n",
       "4         Ireland       45.62      Hugh    O'Reilly          46\n",
       "5         Germany       43.62      Fynn  Zimmermann          37\n",
       "6         Austria       42.62    Astrid      Gruber           7"
      ]
     },
     "execution_count": 56,
     "metadata": {},
     "output_type": "execute_result"
    }
   ],
   "source": [
    "df1 = pd.read_sql(q1, conn)\n",
    "df1"
   ]
  },
  {
   "cell_type": "code",
   "execution_count": 203,
   "metadata": {
    "scrolled": false
   },
   "outputs": [
    {
     "data": {
      "image/png": "[encoded data removed]",
      "text/plain": [
       "<Figure size 720x360 with 1 Axes>"
      ]
     },
     "metadata": {
      "needs_background": "light"
     },
     "output_type": "display_data"
    }
   ],
   "source": [
    "# Lets see the distribution of top-spenders along countries\n",
    "fig, _ = plt.subplots()\n",
    "fig.set_size_inches(10,5)\n",
    "sns.despine()\n",
    "_ = sns.barplot(x=df1.Country, y=df1.TotalSpent, palette='husl')\n",
    "plt.xlabel(\"Country\")\n",
    "plt.ylabel(\"Dollars\")\n",
    "plt.title(\"Top amount spent by a single customer in each country\")\n",
    "plt.show(fig)"
   ]
  },
  {
   "cell_type": "markdown",
   "metadata": {},
   "source": [
    "### Use Case 2 :\n",
    "Lets see how many rock songs were purchased from each country\n",
    "\n",
    "1. To select the Purchase details for each country we could simply select BillingCountry from Invoices.\n",
    "2. To post only the transactions for the Rock category, we need to join the dataset with Tracks and Genres tables and refine it to Rock and Group BY BillingCountry.\n",
    "3. Later, we need to order the results in descending order before posting it, to see the Country with Popular customers for Rock categories "
   ]
  },
  {
   "cell_type": "code",
   "execution_count": 63,
   "metadata": {},
   "outputs": [],
   "source": [
    "q2 = '''\n",
    "SELECT i.BillingCountry Country, COUNT(*) RockSongsPurchased\n",
    "FROM invoices i\n",
    "    JOIN invoice_items il ON i.InvoiceId = il.InvoiceId\n",
    "    JOIN tracks t ON il.TrackId = t.TrackId\n",
    "    JOIN genres g ON t.GenreId = g.Genreid\n",
    "WHERE g.Name = 'Rock'\n",
    "GROUP BY BillingCountry\n",
    "ORDER BY RockSongsPurchased DESC, BillingCountry\n",
    "LIMIT 7;\n",
    "'''"
   ]
  },
  {
   "cell_type": "code",
   "execution_count": 64,
   "metadata": {},
   "outputs": [
    {
     "data": {
      "text/html": [
       "<div>\n",
       "<style scoped>\n",
       "    .dataframe tbody tr th:only-of-type {\n",
       "        vertical-align: middle;\n",
       "    }\n",
       "\n",
       "    .dataframe tbody tr th {\n",
       "        vertical-align: top;\n",
       "    }\n",
       "\n",
       "    .dataframe thead th {\n",
       "        text-align: right;\n",
       "    }\n",
       "</style>\n",
       "<table border=\"1\" class=\"dataframe\">\n",
       "  <thead>\n",
       "    <tr style=\"text-align: right;\">\n",
       "      <th></th>\n",
       "      <th>Country</th>\n",
       "      <th>RockSongsPurchased</th>\n",
       "    </tr>\n",
       "  </thead>\n",
       "  <tbody>\n",
       "    <tr>\n",
       "      <th>0</th>\n",
       "      <td>USA</td>\n",
       "      <td>157</td>\n",
       "    </tr>\n",
       "    <tr>\n",
       "      <th>1</th>\n",
       "      <td>Canada</td>\n",
       "      <td>107</td>\n",
       "    </tr>\n",
       "    <tr>\n",
       "      <th>2</th>\n",
       "      <td>Brazil</td>\n",
       "      <td>81</td>\n",
       "    </tr>\n",
       "    <tr>\n",
       "      <th>3</th>\n",
       "      <td>France</td>\n",
       "      <td>65</td>\n",
       "    </tr>\n",
       "    <tr>\n",
       "      <th>4</th>\n",
       "      <td>Germany</td>\n",
       "      <td>62</td>\n",
       "    </tr>\n",
       "    <tr>\n",
       "      <th>5</th>\n",
       "      <td>United Kingdom</td>\n",
       "      <td>37</td>\n",
       "    </tr>\n",
       "    <tr>\n",
       "      <th>6</th>\n",
       "      <td>Portugal</td>\n",
       "      <td>31</td>\n",
       "    </tr>\n",
       "  </tbody>\n",
       "</table>\n",
       "</div>"
      ],
      "text/plain": [
       "          Country  RockSongsPurchased\n",
       "0             USA                 157\n",
       "1          Canada                 107\n",
       "2          Brazil                  81\n",
       "3          France                  65\n",
       "4         Germany                  62\n",
       "5  United Kingdom                  37\n",
       "6        Portugal                  31"
      ]
     },
     "execution_count": 64,
     "metadata": {},
     "output_type": "execute_result"
    }
   ],
   "source": [
    "df2 = pd.read_sql(q2, conn)\n",
    "df2"
   ]
  },
  {
   "cell_type": "code",
   "execution_count": 202,
   "metadata": {},
   "outputs": [
    {
     "data": {
      "image/png": "[encoded data removed]",
      "text/plain": [
       "<Figure size 720x360 with 1 Axes>"
      ]
     },
     "metadata": {
      "needs_background": "light"
     },
     "output_type": "display_data"
    }
   ],
   "source": [
    "fig, _ = plt.subplots()\n",
    "fig.set_size_inches(10, 5)\n",
    "_ = sns.barplot(x=df2.Country, y=df2.RockSongsPurchased, palette='Set2')\n",
    "plt.xlabel(\"Country\")\n",
    "plt.ylabel(\"Number of songs\")\n",
    "plt.title(\"Rock songs purchased by each country\")\n",
    "plt.show(fig)"
   ]
  },
  {
   "cell_type": "markdown",
   "metadata": {},
   "source": [
    "### Use Case 3 :\n",
    "\n",
    "Lets see how yearly income varies according to genre"
   ]
  },
  {
   "cell_type": "code",
   "execution_count": 186,
   "metadata": {},
   "outputs": [],
   "source": [
    "q3 = '''\n",
    "SELECT\n",
    "    STRFTIME('%Y', i.InvoiceDate) Year, \n",
    "    SUM(il.Quantity * il.UnitPrice) Income,\n",
    "    g.Name GenreName\n",
    "FROM invoices i\n",
    "    JOIN invoice_items il\n",
    "    ON i.InvoiceId = il.InvoiceId\n",
    "    JOIN tracks t\n",
    "    ON t.TrackId = il.TrackId\n",
    "    JOIN genres g\n",
    "    ON t.GenreId = g.GenreId\n",
    "WHERE GenreName IN ('Rock', 'Blues', 'Bossa Nova', 'Jazz', 'Latin')\n",
    "GROUP BY 1,3;\n",
    "'''"
   ]
  },
  {
   "cell_type": "code",
   "execution_count": 71,
   "metadata": {},
   "outputs": [
    {
     "data": {
      "text/html": [
       "<div>\n",
       "<style scoped>\n",
       "    .dataframe tbody tr th:only-of-type {\n",
       "        vertical-align: middle;\n",
       "    }\n",
       "\n",
       "    .dataframe tbody tr th {\n",
       "        vertical-align: top;\n",
       "    }\n",
       "\n",
       "    .dataframe thead th {\n",
       "        text-align: right;\n",
       "    }\n",
       "</style>\n",
       "<table border=\"1\" class=\"dataframe\">\n",
       "  <thead>\n",
       "    <tr style=\"text-align: right;\">\n",
       "      <th></th>\n",
       "      <th>Year</th>\n",
       "      <th>Income</th>\n",
       "      <th>GenreName</th>\n",
       "    </tr>\n",
       "  </thead>\n",
       "  <tbody>\n",
       "    <tr>\n",
       "      <th>0</th>\n",
       "      <td>2009</td>\n",
       "      <td>10.89</td>\n",
       "      <td>Blues</td>\n",
       "    </tr>\n",
       "    <tr>\n",
       "      <th>1</th>\n",
       "      <td>2009</td>\n",
       "      <td>0.99</td>\n",
       "      <td>Bossa Nova</td>\n",
       "    </tr>\n",
       "    <tr>\n",
       "      <th>2</th>\n",
       "      <td>2009</td>\n",
       "      <td>19.80</td>\n",
       "      <td>Jazz</td>\n",
       "    </tr>\n",
       "    <tr>\n",
       "      <th>3</th>\n",
       "      <td>2009</td>\n",
       "      <td>82.17</td>\n",
       "      <td>Latin</td>\n",
       "    </tr>\n",
       "    <tr>\n",
       "      <th>4</th>\n",
       "      <td>2009</td>\n",
       "      <td>178.20</td>\n",
       "      <td>Rock</td>\n",
       "    </tr>\n",
       "  </tbody>\n",
       "</table>\n",
       "</div>"
      ],
      "text/plain": [
       "   Year  Income   GenreName\n",
       "0  2009   10.89       Blues\n",
       "1  2009    0.99  Bossa Nova\n",
       "2  2009   19.80        Jazz\n",
       "3  2009   82.17       Latin\n",
       "4  2009  178.20        Rock"
      ]
     },
     "execution_count": 71,
     "metadata": {},
     "output_type": "execute_result"
    }
   ],
   "source": [
    "df3 = pd.read_sql(q3, conn)\n",
    "df3.head()"
   ]
  },
  {
   "cell_type": "code",
   "execution_count": 207,
   "metadata": {},
   "outputs": [
    {
     "data": {
      "image/png": "[encoded data removed]",
      "text/plain": [
       "<Figure size 504x360 with 1 Axes>"
      ]
     },
     "metadata": {
      "needs_background": "light"
     },
     "output_type": "display_data"
    }
   ],
   "source": [
    "fig, _ = plt.subplots()\n",
    "fig.set_size_inches(7,5)\n",
    "ax = sns.lineplot(x='Year', y='Income', hue='GenreName',data=df3)\n",
    "plt.title(\"Annual Income by Genre\")\n",
    "plt.legend(bbox_to_anchor=(1.05, 1), loc=2, borderaxespad=0.)\n",
    "for l in ax.lines:\n",
    "    plt.setp(l, linewidth=3.5)"
   ]
  },
  {
   "cell_type": "markdown",
   "metadata": {},
   "source": [
    "### Use Case 4 :\n",
    "\n",
    "Lets see how monthly income varies in 2013 for Rock genre"
   ]
  },
  {
   "cell_type": "code",
   "execution_count": 73,
   "metadata": {},
   "outputs": [],
   "source": [
    "q4 = '''\n",
    "SELECT\n",
    "    STRFTIME('%Y', i.InvoiceDate) Year, \n",
    "    STRFTIME('%m', i.InvoiceDate) Month,\n",
    "    SUM(il.Quantity * il.UnitPrice) Income,\n",
    "    g.Name GenreName\n",
    "FROM invoices i\n",
    "    JOIN invoice_items il\n",
    "    ON i.InvoiceId = il.InvoiceId\n",
    "    JOIN tracks t\n",
    "    ON t.TrackId = il.TrackId\n",
    "    JOIN genres g\n",
    "    ON t.GenreId = g.GenreId\n",
    "WHERE GenreName = 'Rock' AND Year = '2013'\n",
    "GROUP BY 1,2;\n",
    "'''"
   ]
  },
  {
   "cell_type": "code",
   "execution_count": 221,
   "metadata": {},
   "outputs": [
    {
     "data": {
      "text/html": [
       "<div>\n",
       "<style scoped>\n",
       "    .dataframe tbody tr th:only-of-type {\n",
       "        vertical-align: middle;\n",
       "    }\n",
       "\n",
       "    .dataframe tbody tr th {\n",
       "        vertical-align: top;\n",
       "    }\n",
       "\n",
       "    .dataframe thead th {\n",
       "        text-align: right;\n",
       "    }\n",
       "</style>\n",
       "<table border=\"1\" class=\"dataframe\">\n",
       "  <thead>\n",
       "    <tr style=\"text-align: right;\">\n",
       "      <th></th>\n",
       "      <th>Year</th>\n",
       "      <th>Month</th>\n",
       "      <th>Income</th>\n",
       "      <th>GenreName</th>\n",
       "    </tr>\n",
       "  </thead>\n",
       "  <tbody>\n",
       "    <tr>\n",
       "      <th>0</th>\n",
       "      <td>2013</td>\n",
       "      <td>01</td>\n",
       "      <td>6.93</td>\n",
       "      <td>Rock</td>\n",
       "    </tr>\n",
       "    <tr>\n",
       "      <th>1</th>\n",
       "      <td>2013</td>\n",
       "      <td>02</td>\n",
       "      <td>16.83</td>\n",
       "      <td>Rock</td>\n",
       "    </tr>\n",
       "    <tr>\n",
       "      <th>2</th>\n",
       "      <td>2013</td>\n",
       "      <td>03</td>\n",
       "      <td>5.94</td>\n",
       "      <td>Rock</td>\n",
       "    </tr>\n",
       "    <tr>\n",
       "      <th>3</th>\n",
       "      <td>2013</td>\n",
       "      <td>04</td>\n",
       "      <td>9.90</td>\n",
       "      <td>Rock</td>\n",
       "    </tr>\n",
       "    <tr>\n",
       "      <th>4</th>\n",
       "      <td>2013</td>\n",
       "      <td>05</td>\n",
       "      <td>10.89</td>\n",
       "      <td>Rock</td>\n",
       "    </tr>\n",
       "  </tbody>\n",
       "</table>\n",
       "</div>"
      ],
      "text/plain": [
       "   Year Month  Income GenreName\n",
       "0  2013    01    6.93      Rock\n",
       "1  2013    02   16.83      Rock\n",
       "2  2013    03    5.94      Rock\n",
       "3  2013    04    9.90      Rock\n",
       "4  2013    05   10.89      Rock"
      ]
     },
     "execution_count": 221,
     "metadata": {},
     "output_type": "execute_result"
    }
   ],
   "source": [
    "df4 = pd.read_sql(q4, conn)\n",
    "df4.head()"
   ]
  },
  {
   "cell_type": "code",
   "execution_count": 208,
   "metadata": {
    "scrolled": true
   },
   "outputs": [
    {
     "data": {
      "image/png": "[encoded data removed]",
      "text/plain": [
       "<Figure size 504x360 with 1 Axes>"
      ]
     },
     "metadata": {
      "needs_background": "light"
     },
     "output_type": "display_data"
    }
   ],
   "source": [
    "fig, _ = plt.subplots()\n",
    "fig.set_size_inches(7,5)\n",
    "ax = sns.lineplot(x='Month', y='Income', data=df4)\n",
    "plt.title(\"Monthly income from Rock in 2013\")\n",
    "for l in ax.lines:\n",
    "    plt.setp(l, linewidth=3.5)"
   ]
  },
  {
   "cell_type": "markdown",
   "metadata": {},
   "source": [
    "### Use Case 5 :\n",
    "\n",
    "Lets see the most popular Genre sold in Germany and the no. of Tracks sold"
   ]
  },
  {
   "cell_type": "code",
   "execution_count": 104,
   "metadata": {},
   "outputs": [],
   "source": [
    "q5 = '''\n",
    "WITH germany_tracks_sold AS\n",
    "    (\n",
    "    SELECT il.* FROM invoice_items il\n",
    "    INNER JOIN invoices i on i.InvoiceId = il.InvoiceId\n",
    "    INNER JOIN customers c on c.CustomerId = i.CustomerId\n",
    "    WHERE c.country = \"Germany\"\n",
    "    )\n",
    "\n",
    "SELECT\n",
    "    g.name genres,\n",
    "    count(uts.InvoiceLineId) tracks_sold,\n",
    "    cast(count(uts.InvoiceLineId) AS FLOAT) / (\n",
    "        SELECT COUNT(*) from germany_tracks_sold\n",
    "    ) percentage_sold\n",
    "FROM germany_tracks_sold uts\n",
    "INNER JOIN tracks t on t.TrackId = uts.TrackId\n",
    "INNER JOIN genres g on g.GenreId = t.GenreId\n",
    "GROUP BY 1\n",
    "ORDER BY 2 DESC\n",
    "LIMIT 10;'''"
   ]
  },
  {
   "cell_type": "code",
   "execution_count": 220,
   "metadata": {},
   "outputs": [
    {
     "data": {
      "text/html": [
       "<div>\n",
       "<style scoped>\n",
       "    .dataframe tbody tr th:only-of-type {\n",
       "        vertical-align: middle;\n",
       "    }\n",
       "\n",
       "    .dataframe tbody tr th {\n",
       "        vertical-align: top;\n",
       "    }\n",
       "\n",
       "    .dataframe thead th {\n",
       "        text-align: right;\n",
       "    }\n",
       "</style>\n",
       "<table border=\"1\" class=\"dataframe\">\n",
       "  <thead>\n",
       "    <tr style=\"text-align: right;\">\n",
       "      <th></th>\n",
       "      <th>genres</th>\n",
       "      <th>tracks_sold</th>\n",
       "      <th>percentage_sold</th>\n",
       "    </tr>\n",
       "  </thead>\n",
       "  <tbody>\n",
       "    <tr>\n",
       "      <th>0</th>\n",
       "      <td>Rock</td>\n",
       "      <td>62</td>\n",
       "      <td>0.407895</td>\n",
       "    </tr>\n",
       "    <tr>\n",
       "      <th>1</th>\n",
       "      <td>Metal</td>\n",
       "      <td>25</td>\n",
       "      <td>0.164474</td>\n",
       "    </tr>\n",
       "    <tr>\n",
       "      <th>2</th>\n",
       "      <td>Latin</td>\n",
       "      <td>18</td>\n",
       "      <td>0.118421</td>\n",
       "    </tr>\n",
       "    <tr>\n",
       "      <th>3</th>\n",
       "      <td>Blues</td>\n",
       "      <td>14</td>\n",
       "      <td>0.092105</td>\n",
       "    </tr>\n",
       "    <tr>\n",
       "      <th>4</th>\n",
       "      <td>Alternative &amp; Punk</td>\n",
       "      <td>13</td>\n",
       "      <td>0.085526</td>\n",
       "    </tr>\n",
       "  </tbody>\n",
       "</table>\n",
       "</div>"
      ],
      "text/plain": [
       "               genres  tracks_sold  percentage_sold\n",
       "0                Rock           62         0.407895\n",
       "1               Metal           25         0.164474\n",
       "2               Latin           18         0.118421\n",
       "3               Blues           14         0.092105\n",
       "4  Alternative & Punk           13         0.085526"
      ]
     },
     "execution_count": 220,
     "metadata": {},
     "output_type": "execute_result"
    }
   ],
   "source": [
    "df5 = pd.read_sql(q5, conn)\n",
    "df5.head()"
   ]
  },
  {
   "cell_type": "code",
   "execution_count": 218,
   "metadata": {},
   "outputs": [
    {
     "data": {
      "image/png": "[encoded data removed]",
      "text/plain": [
       "<Figure size 432x288 with 1 Axes>"
      ]
     },
     "metadata": {
      "needs_background": "light"
     },
     "output_type": "display_data"
    }
   ],
   "source": [
    "genre_sales_germany = pd.read_sql(q5, conn)\n",
    "genre_sales_germany.set_index('genres',drop= True, inplace = True)\n",
    "genre_sales_germany['tracks_sold'].plot.barh(\n",
    "                title = 'top selling genre in Germany',\n",
    "                xlim = (0,650),\n",
    "                colormap = plt.cm.Accent\n",
    "                )\n",
    "plt.ylabel('Genre Type')\n",
    "plt.xlabel('No. of Tracks Sold')\n",
    "plt.xlim([0, 70])\n",
    "for i, label in enumerate(list(genre_sales_germany.index)):\n",
    "    score = genre_sales_germany.loc[label, 'tracks_sold']\n",
    "    label = (genre_sales_germany.loc[label, 'percentage_sold'] * 100).astype(int).astype(str) + '%'\n",
    "    plt.annotate(str(label),(score+10,i-0.15))\n",
    "plt.show()"
   ]
  },
  {
   "cell_type": "markdown",
   "metadata": {},
   "source": [
    "Based on the sales trend in Germany, its worth introducing Rock Genre with highest selling value of more than 62% with 37% difference stands Metal genre popular in the country"
   ]
  },
  {
   "cell_type": "markdown",
   "metadata": {},
   "source": [
    "### Use Case 6 :\n",
    "\n",
    "Lets see which countries have the most Invoices"
   ]
  },
  {
   "cell_type": "code",
   "execution_count": 112,
   "metadata": {},
   "outputs": [],
   "source": [
    "# Select only data for which countries have the most Invoices\n",
    "q6 = '''\n",
    "SELECT BillingCountry AS billingCountry,\n",
    "       COUNT(*)       AS invoices \n",
    "  FROM invoices \n",
    "GROUP BY BillingCountry \n",
    "ORDER BY invoices DESC;'''"
   ]
  },
  {
   "cell_type": "code",
   "execution_count": 219,
   "metadata": {},
   "outputs": [
    {
     "data": {
      "text/html": [
       "<div>\n",
       "<style scoped>\n",
       "    .dataframe tbody tr th:only-of-type {\n",
       "        vertical-align: middle;\n",
       "    }\n",
       "\n",
       "    .dataframe tbody tr th {\n",
       "        vertical-align: top;\n",
       "    }\n",
       "\n",
       "    .dataframe thead th {\n",
       "        text-align: right;\n",
       "    }\n",
       "</style>\n",
       "<table border=\"1\" class=\"dataframe\">\n",
       "  <thead>\n",
       "    <tr style=\"text-align: right;\">\n",
       "      <th></th>\n",
       "      <th>billingCountry</th>\n",
       "      <th>invoices</th>\n",
       "    </tr>\n",
       "  </thead>\n",
       "  <tbody>\n",
       "    <tr>\n",
       "      <th>0</th>\n",
       "      <td>USA</td>\n",
       "      <td>91</td>\n",
       "    </tr>\n",
       "    <tr>\n",
       "      <th>1</th>\n",
       "      <td>Canada</td>\n",
       "      <td>56</td>\n",
       "    </tr>\n",
       "    <tr>\n",
       "      <th>2</th>\n",
       "      <td>France</td>\n",
       "      <td>35</td>\n",
       "    </tr>\n",
       "    <tr>\n",
       "      <th>3</th>\n",
       "      <td>Brazil</td>\n",
       "      <td>35</td>\n",
       "    </tr>\n",
       "    <tr>\n",
       "      <th>4</th>\n",
       "      <td>Germany</td>\n",
       "      <td>28</td>\n",
       "    </tr>\n",
       "  </tbody>\n",
       "</table>\n",
       "</div>"
      ],
      "text/plain": [
       "  billingCountry  invoices\n",
       "0            USA        91\n",
       "1         Canada        56\n",
       "2         France        35\n",
       "3         Brazil        35\n",
       "4        Germany        28"
      ]
     },
     "execution_count": 219,
     "metadata": {},
     "output_type": "execute_result"
    }
   ],
   "source": [
    "df6 = pd.read_sql_query(q6, conn)\n",
    "df6.head()"
   ]
  },
  {
   "cell_type": "code",
   "execution_count": 119,
   "metadata": {},
   "outputs": [
    {
     "data": {
      "image/png": "[encoded data removed]",
      "text/plain": [
       "<Figure size 432x288 with 1 Axes>"
      ]
     },
     "metadata": {
      "needs_background": "light"
     },
     "output_type": "display_data"
    }
   ],
   "source": [
    "df6.plot.bar(stacked=True);"
   ]
  },
  {
   "cell_type": "markdown",
   "metadata": {},
   "source": [
    "### Use Case 7 :\n",
    "\n",
    "Lets see which city has the best customers"
   ]
  },
  {
   "cell_type": "code",
   "execution_count": 136,
   "metadata": {},
   "outputs": [],
   "source": [
    "q7 = '''\n",
    "SELECT CustomerId AS customerId,\n",
    "       SUM(Total) AS money_spent \n",
    "  FROM invoices \n",
    "GROUP BY CustomerId \n",
    "ORDER BY money_spent DESC \n",
    " LIMIT 1;'''"
   ]
  },
  {
   "cell_type": "code",
   "execution_count": 137,
   "metadata": {},
   "outputs": [
    {
     "data": {
      "text/html": [
       "<div>\n",
       "<style scoped>\n",
       "    .dataframe tbody tr th:only-of-type {\n",
       "        vertical-align: middle;\n",
       "    }\n",
       "\n",
       "    .dataframe tbody tr th {\n",
       "        vertical-align: top;\n",
       "    }\n",
       "\n",
       "    .dataframe thead th {\n",
       "        text-align: right;\n",
       "    }\n",
       "</style>\n",
       "<table border=\"1\" class=\"dataframe\">\n",
       "  <thead>\n",
       "    <tr style=\"text-align: right;\">\n",
       "      <th></th>\n",
       "      <th>customerId</th>\n",
       "      <th>money_spent</th>\n",
       "    </tr>\n",
       "  </thead>\n",
       "  <tbody>\n",
       "    <tr>\n",
       "      <th>0</th>\n",
       "      <td>6</td>\n",
       "      <td>49.62</td>\n",
       "    </tr>\n",
       "  </tbody>\n",
       "</table>\n",
       "</div>"
      ],
      "text/plain": [
       "   customerId  money_spent\n",
       "0           6        49.62"
      ]
     },
     "execution_count": 137,
     "metadata": {},
     "output_type": "execute_result"
    }
   ],
   "source": [
    "df7 = pd.read_sql_query(q7, conn)\n",
    "df7"
   ]
  },
  {
   "cell_type": "markdown",
   "metadata": {},
   "source": [
    "### Use Case 8 :\n",
    "\n",
    "Lets see who is writing the rock music.\n",
    "\n",
    "Now that we know that our customers love rock music, we can decide which musicians to invite to play at the concert. Let's invite the artists who have written the most rock music in our dataset. Write a query that returns the Artist name and total track count of the top 10 rock bands."
   ]
  },
  {
   "cell_type": "code",
   "execution_count": 171,
   "metadata": {},
   "outputs": [],
   "source": [
    "q8 = '''SELECT artists.ArtistId   AS artistId,\n",
    "       artists.Name       AS name,\n",
    "       COUNT(tracks.Name) AS Songs \n",
    "  FROM artists JOIN albums \n",
    "    ON albums.ArtistId = artists.ArtistId JOIN tracks \n",
    "    ON albums.AlbumId = tracks.AlbumId JOIN genres \n",
    "    ON tracks.GenreId = genres.GenreId \n",
    " WHERE genres.Name = 'Rock' \n",
    "GROUP BY artists.ArtistId,\n",
    "       artists.Name,\n",
    "       genres.Name \n",
    "ORDER BY Songs DESC \n",
    " LIMIT 10; '''"
   ]
  },
  {
   "cell_type": "code",
   "execution_count": 223,
   "metadata": {},
   "outputs": [
    {
     "data": {
      "text/html": [
       "<div>\n",
       "<style scoped>\n",
       "    .dataframe tbody tr th:only-of-type {\n",
       "        vertical-align: middle;\n",
       "    }\n",
       "\n",
       "    .dataframe tbody tr th {\n",
       "        vertical-align: top;\n",
       "    }\n",
       "\n",
       "    .dataframe thead th {\n",
       "        text-align: right;\n",
       "    }\n",
       "</style>\n",
       "<table border=\"1\" class=\"dataframe\">\n",
       "  <thead>\n",
       "    <tr style=\"text-align: right;\">\n",
       "      <th></th>\n",
       "      <th>artistId</th>\n",
       "      <th>name</th>\n",
       "      <th>Songs</th>\n",
       "    </tr>\n",
       "  </thead>\n",
       "  <tbody>\n",
       "    <tr>\n",
       "      <th>0</th>\n",
       "      <td>22</td>\n",
       "      <td>Led Zeppelin</td>\n",
       "      <td>114</td>\n",
       "    </tr>\n",
       "    <tr>\n",
       "      <th>1</th>\n",
       "      <td>150</td>\n",
       "      <td>U2</td>\n",
       "      <td>112</td>\n",
       "    </tr>\n",
       "    <tr>\n",
       "      <th>2</th>\n",
       "      <td>58</td>\n",
       "      <td>Deep Purple</td>\n",
       "      <td>92</td>\n",
       "    </tr>\n",
       "    <tr>\n",
       "      <th>3</th>\n",
       "      <td>90</td>\n",
       "      <td>Iron Maiden</td>\n",
       "      <td>81</td>\n",
       "    </tr>\n",
       "    <tr>\n",
       "      <th>4</th>\n",
       "      <td>118</td>\n",
       "      <td>Pearl Jam</td>\n",
       "      <td>54</td>\n",
       "    </tr>\n",
       "  </tbody>\n",
       "</table>\n",
       "</div>"
      ],
      "text/plain": [
       "   artistId          name  Songs\n",
       "0        22  Led Zeppelin    114\n",
       "1       150            U2    112\n",
       "2        58   Deep Purple     92\n",
       "3        90   Iron Maiden     81\n",
       "4       118     Pearl Jam     54"
      ]
     },
     "execution_count": 223,
     "metadata": {},
     "output_type": "execute_result"
    }
   ],
   "source": [
    "df8 = pd.read_sql_query(q8, conn)\n",
    "df8.head()"
   ]
  },
  {
   "cell_type": "markdown",
   "metadata": {},
   "source": [
    "### Use Case 9:\n",
    "\n",
    "Lets see, we want to find out the most popular music Genre for each country. We determine the most popular genre as the genre with the highest amount of purchases. Write a query that returns each country along with the top Genre. For countries where the maximum number of purchases is shared return all Genres."
   ]
  },
  {
   "cell_type": "code",
   "execution_count": 173,
   "metadata": {},
   "outputs": [],
   "source": [
    "q9 = ''' WITH t1 AS (\n",
    "    SELECT\n",
    "        COUNT(i.InvoiceId) Purchases, c.Country, g.Name, g.GenreId\n",
    "    FROM invoices i\n",
    "        JOIN customers c ON i.CustomerId = c.CustomerId\n",
    "        JOIN invoice_items il ON il.Invoiceid = i.InvoiceId\n",
    "        JOIN tracks t ON t.TrackId = il.Trackid\n",
    "        JOIN genres g ON t.GenreId = g.GenreId\n",
    "        GROUP BY c.Country, g.Name\n",
    "    ORDER BY c.Country, Purchases DESC\n",
    "    )\n",
    "\n",
    "SELECT t1.*\n",
    "FROM t1\n",
    "JOIN (\n",
    "    SELECT MAX(Purchases) AS MaxPurchases, Country, Name, GenreId\n",
    "    FROM t1\n",
    "    GROUP BY Country\n",
    "    )t2\n",
    "ON t1.Country = t2.Country\n",
    "WHERE t1.Purchases = t2.MaxPurchases; '''"
   ]
  },
  {
   "cell_type": "code",
   "execution_count": 222,
   "metadata": {},
   "outputs": [
    {
     "data": {
      "text/html": [
       "<div>\n",
       "<style scoped>\n",
       "    .dataframe tbody tr th:only-of-type {\n",
       "        vertical-align: middle;\n",
       "    }\n",
       "\n",
       "    .dataframe tbody tr th {\n",
       "        vertical-align: top;\n",
       "    }\n",
       "\n",
       "    .dataframe thead th {\n",
       "        text-align: right;\n",
       "    }\n",
       "</style>\n",
       "<table border=\"1\" class=\"dataframe\">\n",
       "  <thead>\n",
       "    <tr style=\"text-align: right;\">\n",
       "      <th></th>\n",
       "      <th>Purchases</th>\n",
       "      <th>Country</th>\n",
       "      <th>Name</th>\n",
       "      <th>GenreId</th>\n",
       "    </tr>\n",
       "  </thead>\n",
       "  <tbody>\n",
       "    <tr>\n",
       "      <th>0</th>\n",
       "      <td>9</td>\n",
       "      <td>Argentina</td>\n",
       "      <td>Rock</td>\n",
       "      <td>1</td>\n",
       "    </tr>\n",
       "    <tr>\n",
       "      <th>1</th>\n",
       "      <td>9</td>\n",
       "      <td>Argentina</td>\n",
       "      <td>Alternative &amp; Punk</td>\n",
       "      <td>4</td>\n",
       "    </tr>\n",
       "    <tr>\n",
       "      <th>2</th>\n",
       "      <td>22</td>\n",
       "      <td>Australia</td>\n",
       "      <td>Rock</td>\n",
       "      <td>1</td>\n",
       "    </tr>\n",
       "    <tr>\n",
       "      <th>3</th>\n",
       "      <td>15</td>\n",
       "      <td>Austria</td>\n",
       "      <td>Rock</td>\n",
       "      <td>1</td>\n",
       "    </tr>\n",
       "    <tr>\n",
       "      <th>4</th>\n",
       "      <td>21</td>\n",
       "      <td>Belgium</td>\n",
       "      <td>Rock</td>\n",
       "      <td>1</td>\n",
       "    </tr>\n",
       "  </tbody>\n",
       "</table>\n",
       "</div>"
      ],
      "text/plain": [
       "   Purchases    Country                Name  GenreId\n",
       "0          9  Argentina                Rock        1\n",
       "1          9  Argentina  Alternative & Punk        4\n",
       "2         22  Australia                Rock        1\n",
       "3         15    Austria                Rock        1\n",
       "4         21    Belgium                Rock        1"
      ]
     },
     "execution_count": 222,
     "metadata": {},
     "output_type": "execute_result"
    }
   ],
   "source": [
    "df9 = pd.read_sql_query(q9, conn)\n",
    "df9.head()"
   ]
  },
  {
   "cell_type": "markdown",
   "metadata": {},
   "source": [
    "### Use Case 10 :\n",
    "\n",
    "Lets return all the track names that have a song length longer than the average song length. Though you could perform this with two queries. Imagine you wanted your query to update based on when new data is put in the database. Therefore, you do not want to hard code the average into your query. You only need the Track table to complete this query."
   ]
  },
  {
   "cell_type": "code",
   "execution_count": 179,
   "metadata": {},
   "outputs": [],
   "source": [
    "q10 = ''' \n",
    "SELECT Name, Milliseconds FROM (\n",
    "    SELECT t.Name, t.Milliseconds, (SELECT AVG(Milliseconds) FROM tracks) AS AvgLenght\n",
    "    FROM tracks t\n",
    "    WHERE AvgLenght < t.Milliseconds\n",
    "    ORDER BY t.Milliseconds DESC\n",
    "); '''"
   ]
  },
  {
   "cell_type": "code",
   "execution_count": 180,
   "metadata": {},
   "outputs": [
    {
     "data": {
      "text/html": [
       "<div>\n",
       "<style scoped>\n",
       "    .dataframe tbody tr th:only-of-type {\n",
       "        vertical-align: middle;\n",
       "    }\n",
       "\n",
       "    .dataframe tbody tr th {\n",
       "        vertical-align: top;\n",
       "    }\n",
       "\n",
       "    .dataframe thead th {\n",
       "        text-align: right;\n",
       "    }\n",
       "</style>\n",
       "<table border=\"1\" class=\"dataframe\">\n",
       "  <thead>\n",
       "    <tr style=\"text-align: right;\">\n",
       "      <th></th>\n",
       "      <th>Name</th>\n",
       "      <th>Milliseconds</th>\n",
       "    </tr>\n",
       "  </thead>\n",
       "  <tbody>\n",
       "    <tr>\n",
       "      <th>0</th>\n",
       "      <td>Occupation / Precipice</td>\n",
       "      <td>5286953</td>\n",
       "    </tr>\n",
       "    <tr>\n",
       "      <th>1</th>\n",
       "      <td>Through a Looking Glass</td>\n",
       "      <td>5088838</td>\n",
       "    </tr>\n",
       "    <tr>\n",
       "      <th>2</th>\n",
       "      <td>Greetings from Earth, Pt. 1</td>\n",
       "      <td>2960293</td>\n",
       "    </tr>\n",
       "    <tr>\n",
       "      <th>3</th>\n",
       "      <td>The Man With Nine Lives</td>\n",
       "      <td>2956998</td>\n",
       "    </tr>\n",
       "    <tr>\n",
       "      <th>4</th>\n",
       "      <td>Battlestar Galactica, Pt. 2</td>\n",
       "      <td>2956081</td>\n",
       "    </tr>\n",
       "    <tr>\n",
       "      <th>...</th>\n",
       "      <td>...</td>\n",
       "      <td>...</td>\n",
       "    </tr>\n",
       "    <tr>\n",
       "      <th>489</th>\n",
       "      <td>22 Acacia Avenue</td>\n",
       "      <td>395572</td>\n",
       "    </tr>\n",
       "    <tr>\n",
       "      <th>490</th>\n",
       "      <td>The Unforgiven II</td>\n",
       "      <td>395520</td>\n",
       "    </tr>\n",
       "    <tr>\n",
       "      <th>491</th>\n",
       "      <td>The Shortest Straw</td>\n",
       "      <td>395389</td>\n",
       "    </tr>\n",
       "    <tr>\n",
       "      <th>492</th>\n",
       "      <td>Concerto for Clarinet in A Major, K. 622: II. ...</td>\n",
       "      <td>394482</td>\n",
       "    </tr>\n",
       "    <tr>\n",
       "      <th>493</th>\n",
       "      <td>Wicked Ways</td>\n",
       "      <td>393691</td>\n",
       "    </tr>\n",
       "  </tbody>\n",
       "</table>\n",
       "<p>494 rows × 2 columns</p>\n",
       "</div>"
      ],
      "text/plain": [
       "                                                  Name  Milliseconds\n",
       "0                               Occupation / Precipice       5286953\n",
       "1                              Through a Looking Glass       5088838\n",
       "2                          Greetings from Earth, Pt. 1       2960293\n",
       "3                              The Man With Nine Lives       2956998\n",
       "4                          Battlestar Galactica, Pt. 2       2956081\n",
       "..                                                 ...           ...\n",
       "489                                   22 Acacia Avenue        395572\n",
       "490                                  The Unforgiven II        395520\n",
       "491                                 The Shortest Straw        395389\n",
       "492  Concerto for Clarinet in A Major, K. 622: II. ...        394482\n",
       "493                                        Wicked Ways        393691\n",
       "\n",
       "[494 rows x 2 columns]"
      ]
     },
     "execution_count": 180,
     "metadata": {},
     "output_type": "execute_result"
    }
   ],
   "source": [
    "df10 = pd.read_sql_query(q10, conn)\n",
    "df10"
   ]
  },
  {
   "cell_type": "markdown",
   "metadata": {},
   "source": [
    "### Use Case 11 :\n",
    "\n",
    "Lets write a query that determines the customer that has spent the most on music for each country. \n",
    "\n",
    "Write a query that returns the country along with the top customer and how much they spent. For countries where the top amount spent is shared, provide all customers who spent this amount."
   ]
  },
  {
   "cell_type": "code",
   "execution_count": 181,
   "metadata": {},
   "outputs": [],
   "source": [
    "q11 = ''' \n",
    "\n",
    "WITH t1 AS \n",
    "(\n",
    "    SELECT c.Country, SUM(i.Total) TotalSpent, c.FirstName, c.LastName, c.CustomerId\n",
    "    FROM \n",
    "        customers c\n",
    "        JOIN invoices i ON c.CustomerId = i.CustomerId\n",
    "    GROUP BY c.CustomerId\n",
    ")\n",
    "\n",
    "SELECT t1.*\n",
    "FROM t1\n",
    "JOIN(\n",
    "    SELECT Country, MAX(TotalSpent) AS MaxTotalSpent, FirstName, LastName, CustomerId\n",
    "    FROM t1\n",
    "    GROUP BY Country\n",
    ")t2\n",
    "ON t1.Country = t2.Country\n",
    "WHERE t1.TotalSpent = t2.MaxTotalSpent\n",
    "ORDER BY Country; ''' "
   ]
  },
  {
   "cell_type": "code",
   "execution_count": 224,
   "metadata": {},
   "outputs": [
    {
     "data": {
      "text/html": [
       "<div>\n",
       "<style scoped>\n",
       "    .dataframe tbody tr th:only-of-type {\n",
       "        vertical-align: middle;\n",
       "    }\n",
       "\n",
       "    .dataframe tbody tr th {\n",
       "        vertical-align: top;\n",
       "    }\n",
       "\n",
       "    .dataframe thead th {\n",
       "        text-align: right;\n",
       "    }\n",
       "</style>\n",
       "<table border=\"1\" class=\"dataframe\">\n",
       "  <thead>\n",
       "    <tr style=\"text-align: right;\">\n",
       "      <th></th>\n",
       "      <th>Country</th>\n",
       "      <th>TotalSpent</th>\n",
       "      <th>FirstName</th>\n",
       "      <th>LastName</th>\n",
       "      <th>CustomerId</th>\n",
       "    </tr>\n",
       "  </thead>\n",
       "  <tbody>\n",
       "    <tr>\n",
       "      <th>0</th>\n",
       "      <td>Argentina</td>\n",
       "      <td>37.62</td>\n",
       "      <td>Diego</td>\n",
       "      <td>Gutiérrez</td>\n",
       "      <td>56</td>\n",
       "    </tr>\n",
       "    <tr>\n",
       "      <th>1</th>\n",
       "      <td>Australia</td>\n",
       "      <td>37.62</td>\n",
       "      <td>Mark</td>\n",
       "      <td>Taylor</td>\n",
       "      <td>55</td>\n",
       "    </tr>\n",
       "    <tr>\n",
       "      <th>2</th>\n",
       "      <td>Austria</td>\n",
       "      <td>42.62</td>\n",
       "      <td>Astrid</td>\n",
       "      <td>Gruber</td>\n",
       "      <td>7</td>\n",
       "    </tr>\n",
       "    <tr>\n",
       "      <th>3</th>\n",
       "      <td>Belgium</td>\n",
       "      <td>37.62</td>\n",
       "      <td>Daan</td>\n",
       "      <td>Peeters</td>\n",
       "      <td>8</td>\n",
       "    </tr>\n",
       "    <tr>\n",
       "      <th>4</th>\n",
       "      <td>Brazil</td>\n",
       "      <td>39.62</td>\n",
       "      <td>Luís</td>\n",
       "      <td>Gonçalves</td>\n",
       "      <td>1</td>\n",
       "    </tr>\n",
       "  </tbody>\n",
       "</table>\n",
       "</div>"
      ],
      "text/plain": [
       "     Country  TotalSpent FirstName   LastName  CustomerId\n",
       "0  Argentina       37.62     Diego  Gutiérrez          56\n",
       "1  Australia       37.62      Mark     Taylor          55\n",
       "2    Austria       42.62    Astrid     Gruber           7\n",
       "3    Belgium       37.62      Daan    Peeters           8\n",
       "4     Brazil       39.62      Luís  Gonçalves           1"
      ]
     },
     "execution_count": 224,
     "metadata": {},
     "output_type": "execute_result"
    }
   ],
   "source": [
    "df11 = pd.read_sql_query(q11, conn)\n",
    "df11.head()"
   ]
  },
  {
   "cell_type": "markdown",
   "metadata": {},
   "source": [
    "Now, lets replace or create a table"
   ]
  },
  {
   "cell_type": "code",
   "execution_count": 225,
   "metadata": {},
   "outputs": [],
   "source": [
    "# Write the new DataFrame to a new SQLite3 table\n",
    "df10.to_sql(\"Length_of_Track\", conn, if_exists=\"replace\")"
   ]
  },
  {
   "cell_type": "code",
   "execution_count": 226,
   "metadata": {},
   "outputs": [],
   "source": [
    "# Write the new DataFrame to a new SQLite3 table\n",
    "df8.to_sql(\"Rock_music_composers\", conn, if_exists=\"replace\")"
   ]
  },
  {
   "cell_type": "code",
   "execution_count": 228,
   "metadata": {},
   "outputs": [
    {
     "name": "stdout",
     "output_type": "stream",
     "text": [
      "Table dropped from the database \n"
     ]
    }
   ],
   "source": [
    "#Droping Length_of_Track table if already exists\n",
    "cur.execute(\"DROP TABLE Length_of_Track\")\n",
    "print(\"Table dropped successfully from the database \")"
   ]
  },
  {
   "cell_type": "code",
   "execution_count": 229,
   "metadata": {},
   "outputs": [],
   "source": [
    "#Commit your changes in the database\n",
    "conn.commit()"
   ]
  },
  {
   "cell_type": "code",
   "execution_count": 230,
   "metadata": {},
   "outputs": [],
   "source": [
    "#Closing the connection\n",
    "conn.close()"
   ]
  },
  {
   "cell_type": "markdown",
   "metadata": {},
   "source": [
    "# Thank you !!"
   ]
  }
 ],
 "metadata": {
  "kernelspec": {
   "display_name": "Python 3",
   "language": "python",
   "name": "python3"
  },
  "language_info": {
   "codemirror_mode": {
    "name": "ipython",
    "version": 3
   },
   "file_extension": ".py",
   "mimetype": "text/x-python",
   "name": "python",
   "nbconvert_exporter": "python",
   "pygments_lexer": "ipython3",
   "version": "3.8.5"
  }
 },
 "nbformat": 4,
 "nbformat_minor": 2
}
